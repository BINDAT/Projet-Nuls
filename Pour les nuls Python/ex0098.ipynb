{
 "cells": [
  {
   "cell_type": "code",
   "execution_count": null,
   "id": "80a44052",
   "metadata": {},
   "outputs": [],
   "source": [
    "from email.mime.text import MIMEText\n",
    "import smtplib\n",
    "\n",
    "msg = MIMEText(\n",
    "    \"<h1>Titre</h1><p>Bonjour le monde !</p>\",\"html\")\n",
    "\n",
    "msg['Subject'] = 'Test de message HTML'\n",
    "msg['From'] = 'AdresseExpediteur'\n",
    "msg['To'] = 'AdresseDestinataire'\n",
    "\n",
    "s = smtplib.SMTP('localhost', 1025)\n",
    "s.send_message('AdresseExpediteur',\n",
    "               ['AdresseDestinataire'],\n",
    "               msg.as_string())\n",
    "\n",
    "print(\"Message envoyé !\")"
   ]
  },
  {
   "cell_type": "code",
   "execution_count": null,
   "id": "4d52c149",
   "metadata": {},
   "outputs": [],
   "source": [
    "#python -m smtpd -c DebuggingServer -n localhost:1025 # Allume le serveur SMTP de debug sur le port 1025\n",
    "#python -m aiosmtpd -n -l localhost:1025 # Allume le serveur SMTP de debug sur le port 1025"
   ]
  }
 ],
 "metadata": {
  "kernelspec": {
   "display_name": ".venv",
   "language": "python",
   "name": "python3"
  },
  "language_info": {
   "codemirror_mode": {
    "name": "ipython",
    "version": 3
   },
   "file_extension": ".py",
   "mimetype": "text/x-python",
   "name": "python",
   "nbconvert_exporter": "python",
   "pygments_lexer": "ipython3",
   "version": "3.11.2"
  }
 },
 "nbformat": 4,
 "nbformat_minor": 5
}
