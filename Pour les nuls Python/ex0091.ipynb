{
 "cells": [
  {
   "cell_type": "code",
   "execution_count": 5,
   "id": "77ac85f5",
   "metadata": {},
   "outputs": [],
   "source": [
    "class Animal: # Classe de base\n",
    "    def __init__(self, Name=\"\", Age=0, Type=\"\"): # Constructeur de la classe Animal\n",
    "        self.Name = Name # Nom de l'animal\n",
    "        self.Age = Age # Âge de l'animal\n",
    "        self.Type = Type # Type de l'animal\n",
    "\n",
    "    def GetName(self): # Méthode pour obtenir le nom de l'animal\n",
    "        return self.Name\n",
    "\n",
    "    def SetName(self, Name): # Méthode pour définir le nom de l'animal\n",
    "        self.Name = Name\n",
    "\n",
    "    def GetAge(self): # Méthode pour obtenir l'âge de l'animal\n",
    "        return self.Age\n",
    "\n",
    "    def SetAge(self, Age): # Méthode pour définir l'âge de l'animal\n",
    "        self.Age = Age\n",
    "\n",
    "    def GetType(self): # Méthode pour obtenir le type de l'animal\n",
    "        return self.Type\n",
    "\n",
    "    def SetType(self, Type): # Méthode pour définir le type de l'animal\n",
    "        self.Type = Type\n",
    "\n",
    "    def __str__(self): # Méthode pour afficher les informations de l'animal\n",
    "        return \"{0} est un {1} âgé de {2} ans.\".format(self.Name, self.Type, self.Age)\n",
    "\n",
    "class Chicken(Animal): # Classe dérivée pour les poules\n",
    "    def __init__(self, Name=\"\", Age=0):\n",
    "            self.Name = Name\n",
    "            self.Age = Age\n",
    "            self.Type = \"poulet\"\n",
    "        \n",
    "    def SetType(self, Type):\n",
    "        print(\"Désolé, {0} sera toujours un {1}.\"\n",
    "                  .format(self.Name, self.Type))\n",
    "\n",
    "    def MakeSound(self): # Méthode pour faire le son de la poule\n",
    "        print(\"{0} dit Cot, Cot, Cot, Codette !\".format(self.Name))\n"
   ]
  },
  {
   "cell_type": "code",
   "execution_count": 6,
   "id": "c30cdbcf",
   "metadata": {},
   "outputs": [
    {
     "name": "stdout",
     "output_type": "stream",
     "text": [
      "Arthur est un poulet âgé de 2 ans.\n",
      "Arthur est un poulet âgé de 3 ans.\n",
      "Désolé, Arthur sera toujours un poulet.\n",
      "Arthur est un poulet âgé de 3 ans.\n",
      "Arthur dit Cot, Cot, Cot, Codette !\n"
     ]
    }
   ],
   "source": [
    "MyChicken = Chicken(\"Arthur\", 2) # Création d'une instance de la classe Chicken\n",
    "print(MyChicken) # Affichage des informations de la poule\n",
    "\n",
    "MyChicken.SetAge(MyChicken.GetAge() + 1) # Incrémentation de l'âge de la poule\n",
    "print(MyChicken) # Affichage des informations mises à jour de la poule\n",
    "\n",
    "MyChicken.SetType(\"Gorille\") # Tentative de changement du type de l'animal\n",
    "print(MyChicken) # Affichage des informations de la poule après tentative de changement de type\n",
    "\n",
    "MyChicken.MakeSound()"
   ]
  }
 ],
 "metadata": {
  "kernelspec": {
   "display_name": ".venv",
   "language": "python",
   "name": "python3"
  },
  "language_info": {
   "codemirror_mode": {
    "name": "ipython",
    "version": 3
   },
   "file_extension": ".py",
   "mimetype": "text/x-python",
   "name": "python",
   "nbconvert_exporter": "python",
   "pygments_lexer": "ipython3",
   "version": "3.11.2"
  }
 },
 "nbformat": 4,
 "nbformat_minor": 5
}
