{
 "cells": [
  {
   "cell_type": "code",
   "execution_count": null,
   "id": "4b119888",
   "metadata": {},
   "outputs": [],
   "source": [
    "from email.mime.text import MIMEText\n",
    "import smtplib\n",
    "\n",
    "msg = MIMEText(\"Bonjour le monde !\")\n",
    "\n",
    "msg['Subject'] = 'Message de test'\n",
    "msg['From'] = 'AdresseExpediteur'\n",
    "msg['To'] = 'AdresseDestinataire'\n",
    "s = smtplib.SMTP('localhost', 1025)\n",
    "\n",
    "s.sendmail('AddresseExpediteur', \n",
    "           ['AdresseDestinataire'], \n",
    "           msg.as_string())\n",
    "\n",
    "print(\"Message envoyé !\")"
   ]
  }
 ],
 "metadata": {
  "kernelspec": {
   "display_name": ".venv",
   "language": "python",
   "name": "python3"
  },
  "language_info": {
   "codemirror_mode": {
    "name": "ipython",
    "version": 3
   },
   "file_extension": ".py",
   "mimetype": "text/x-python",
   "name": "python",
   "nbconvert_exporter": "python",
   "pygments_lexer": "ipython3",
   "version": "3.11.2"
  }
 },
 "nbformat": 4,
 "nbformat_minor": 5
}
