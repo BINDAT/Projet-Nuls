{
 "cells": [
  {
   "cell_type": "code",
   "execution_count": null,
   "id": "4b119888",
   "metadata": {},
   "outputs": [],
   "source": [
    "from email.mime.text import MIMEText # Bibliothèque pour créer des messages MIME\n",
    "import smtplib # Bibliothèque pour envoyer des emails\n",
    "\n",
    "msg = MIMEText(\"Bonjour le monde !\") # Création du message\n",
    "\n",
    "msg['Subject'] = 'Message de test' # Sujet du message\n",
    "msg['From'] = 'AdresseExpediteur' # Adresse de l'expéditeur\n",
    "msg['To'] = 'AdresseDestinataire' # Adresse du destinataire\n",
    "s = smtplib.SMTP('localhost', 1025) # Connexion au serveur SMTP local\n",
    "\n",
    "s.sendmail('AddresseExpediteur', \n",
    "           ['AdresseDestinataire'], \n",
    "           msg.as_string()) # Envoi du message\n",
    "\n",
    "print(\"Message envoyé !\") # Confirmation d'envoi\n",
    "# Script pour envoyer un email simple en utilisant un serveur SMTP local"
   ]
  }
 ],
 "metadata": {
  "kernelspec": {
   "display_name": ".venv",
   "language": "python",
   "name": "python3"
  },
  "language_info": {
   "codemirror_mode": {
    "name": "ipython",
    "version": 3
   },
   "file_extension": ".py",
   "mimetype": "text/x-python",
   "name": "python",
   "nbconvert_exporter": "python",
   "pygments_lexer": "ipython3",
   "version": "3.11.2"
  }
 },
 "nbformat": 4,
 "nbformat_minor": 5
}
