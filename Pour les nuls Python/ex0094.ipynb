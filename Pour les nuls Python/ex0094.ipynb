{
 "cells": [
  {
   "cell_type": "code",
   "execution_count": 6,
   "id": "034b692a",
   "metadata": {},
   "outputs": [],
   "source": [
    "import csv # Importation du module CSV\n",
    "\n",
    "class FormatData3: # Classe pour le formatage des données\n",
    "    def __init__(self, Name=\"\", Age=0, Married=False): # Constructeur de la classe\n",
    "        self.Name = Name # Nom\n",
    "        self.Age = Age # Âge\n",
    "        self.Married = Married # Marié\n",
    "\n",
    "    def __str__(self): # Méthode pour afficher les informations de l'objet\n",
    "        OutString = \"'{0}', {1}, {2}\".format(\n",
    "            self.Name, \n",
    "            self.Age, \n",
    "            self.Married)\n",
    "        return OutString # Retourne la chaîne formatée\n",
    "\n",
    "    def SaveData(Filename=\"\", DataList=[]): # Méthode pour enregistrer les données\n",
    "        with open(Filename,\n",
    "                  \"w\", newline='\\n') as csvfile: # Ouverture du fichier en mode écriture\n",
    "            DataWriter = csv.writer(\n",
    "                csvfile,\n",
    "                delimiter='\\n',\n",
    "                quotechar=\" \",\n",
    "                quoting=csv.QUOTE_NONNUMERIC) # Configuration de l'écriture CSV\n",
    "            DataWriter.writerows(DataList) # Écriture des données dans le fichier CSV\n",
    "            csvfile.close() # Fermeture du fichier\n",
    "            print(\"Données enregistrées !\") # Confirmation de l'enregistrement\n",
    "\n",
    "    def ReadData(Filename=\"\"):\n",
    "        with open(Filename,\n",
    "                  \"r\", newline='\\n') as csvfile: # Ouverture du fichier en mode lecture\n",
    "                DataReader = csv.reader(\n",
    "                    csvfile,\n",
    "                    delimiter='\\n',\n",
    "                    quotechar=\" \",\n",
    "                    quoting=csv.QUOTE_NONNUMERIC) # Configuration de la lecture CSV\n",
    "                Output = [] # Liste pour stocker les données lues\n",
    "                for Item in DataReader: # Parcours des éléments lus\n",
    "                    Output.append(Item[0]) # Ajout de chaque élément à la liste\n",
    "                csvfile.close() # Fermeture du fichier\n",
    "                print(\"Données lues !\") # Confirmation de la lecture\n",
    "                return Output # Liste des données lues"
   ]
  },
  {
   "cell_type": "code",
   "execution_count": 7,
   "id": "cb2e842a",
   "metadata": {},
   "outputs": [
    {
     "name": "stdout",
     "output_type": "stream",
     "text": [
      "Données lues !\n",
      "'Georges', 65, True\n",
      "'Sophie', 47, False\n",
      "'Pierre', 52, True\n"
     ]
    }
   ],
   "source": [
    "NewData = FormatData3.ReadData(\"TestFile.csv\") # Lecture des données\n",
    "for Entry in NewData: # Parcours de chaque entrée\n",
    "    print(Entry) # Affichage de chaque entrée"
   ]
  },
  {
   "cell_type": "code",
   "execution_count": 8,
   "id": "f76c4636",
   "metadata": {},
   "outputs": [],
   "source": [
    "#from FormattedData import FormatData\n",
    "\n",
    "#NewData = FormatData.ReadData(\"TestFile.csv\")\n",
    "\n",
    "#for Entry in NewData:\n",
    "#    print(Entry)"
   ]
  },
  {
   "cell_type": "code",
   "execution_count": 9,
   "id": "6878a497",
   "metadata": {},
   "outputs": [
    {
     "name": "stdout",
     "output_type": "stream",
     "text": [
      "Données lues !\n",
      "'Georges', 65, True\n",
      "'Sophie', 47, False\n",
      "'Pierre', 52, True\n",
      "\n",
      "Ajout d'un enregistrement pour Antoine.\n",
      "'Georges', 65, True\n",
      "'Sophie', 47, False\n",
      "'Pierre', 52, True\n",
      "'Antoine', 23, False\n",
      "\n",
      "Suppression de l'enregistrement de Pierre.\n",
      "'Georges', 65, True\n",
      "'Sophie', 47, False\n",
      "'Antoine', 23, False\n",
      "\n",
      "Modification de l'enregistrement de Sophie.\n",
      "'Georges', 65, True\n",
      "'Antoine', 23, False\n",
      "'Sophie', 48, True\n",
      "Données enregistrées !\n"
     ]
    }
   ],
   "source": [
    "import os.path\n",
    "\n",
    "if not os.path.isfile(\"TestFile.csv\"):\n",
    "    print(\"SVP exécutez le fichier d'exemple CreateFile.py !\")\n",
    "    quit()\n",
    "\n",
    "NewData = FormatData3.ReadData(\"TestFile.csv\")\n",
    "for Entry in NewData:\n",
    "    print(Entry)\n",
    "\n",
    "print(\"\\r\\nAjout d'un enregistrement pour Antoine.\")\n",
    "NewRecord = \"'Antoine', 23, False\"\n",
    "NewData.append(NewRecord)\n",
    "for Entry in NewData:\n",
    "    print(Entry)\n",
    "\n",
    "print(\"\\r\\nSuppression de l'enregistrement de Pierre.\")\n",
    "Location = NewData.index(\"'Pierre', 52, True\")\n",
    "Record = NewData[Location]\n",
    "NewData.remove(Record)\n",
    "for Entry in NewData:\n",
    "    print(Entry)\n",
    "\n",
    "print(\"\\r\\nModification de l'enregistrement de Sophie.\")\n",
    "Location = NewData.index(\"'Sophie', 47, False\")\n",
    "Record = NewData[Location]\n",
    "Split = Record.split(\",\")\n",
    "NewRecord = FormatData3(Split[0].replace(\"'\", \"\"),\n",
    "                        int(Split[1]),\n",
    "                        bool(Split[2]))\n",
    "NewRecord.Married = True\n",
    "NewRecord.Age = 48\n",
    "NewData.append(NewRecord.__str__())\n",
    "NewData.remove(Record)\n",
    "for Entry in NewData:\n",
    "    print(Entry)\n",
    "\n",
    "FormatData3.SaveData(\"ChangedFile.csv\", NewData)"
   ]
  }
 ],
 "metadata": {
  "kernelspec": {
   "display_name": ".venv",
   "language": "python",
   "name": "python3"
  },
  "language_info": {
   "codemirror_mode": {
    "name": "ipython",
    "version": 3
   },
   "file_extension": ".py",
   "mimetype": "text/x-python",
   "name": "python",
   "nbconvert_exporter": "python",
   "pygments_lexer": "ipython3",
   "version": "3.11.2"
  }
 },
 "nbformat": 4,
 "nbformat_minor": 5
}
