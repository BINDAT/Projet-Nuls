{
 "cells": [
  {
   "cell_type": "code",
   "execution_count": 5,
   "id": "034b692a",
   "metadata": {},
   "outputs": [],
   "source": [
    "import csv\n",
    "\n",
    "class FormatData3:\n",
    "    def __init__(self, Name=\"\", Age=0, Married=False):\n",
    "        self.Name = Name\n",
    "        self.Age = Age\n",
    "        self.Married = Married\n",
    "    \n",
    "    def __str__(self):\n",
    "        OutString = \"'{0}', {1}, {2}\".format(\n",
    "            self.Name, \n",
    "            self.Age, \n",
    "            self.Married)\n",
    "        return OutString\n",
    "    \n",
    "    def SaveData(Filename=\"\", DataList=[]):\n",
    "        with open(Filename,\n",
    "                  \"w\", newline='\\n') as csvfile:\n",
    "            DataWriter = csv.writer(\n",
    "                csvfile,\n",
    "                delimiter='\\n',\n",
    "                quotechar=\" \",\n",
    "                quoting=csv.QUOTE_NONNUMERIC)\n",
    "            DataWriter.writerows(DataList)\n",
    "            csvfile.close()\n",
    "            print(\"Données enregistrées !\")\n",
    "        \n",
    "        def ReadData(Filename=\"\"):\n",
    "            with open(Filename,\n",
    "                      \"r\", newline='\\n') as csvfile:\n",
    "                DataReader = csv.reader(\n",
    "                    csvfile,\n",
    "                    delimiter='\\n',\n",
    "                    quotechar=\" \",\n",
    "                    quoting=csv.QUOTE_NONNUMERIC)\n",
    "                Output = []\n",
    "                for Item in DataReader:\n",
    "                    Output.append(Item[0])\n",
    "                csvfile.close()\n",
    "                print(\"Données lues !\")\n",
    "                return Output"
   ]
  }
 ],
 "metadata": {
  "kernelspec": {
   "display_name": ".venv",
   "language": "python",
   "name": "python3"
  },
  "language_info": {
   "codemirror_mode": {
    "name": "ipython",
    "version": 3
   },
   "file_extension": ".py",
   "mimetype": "text/x-python",
   "name": "python",
   "nbconvert_exporter": "python",
   "pygments_lexer": "ipython3",
   "version": "3.11.2"
  }
 },
 "nbformat": 4,
 "nbformat_minor": 5
}
