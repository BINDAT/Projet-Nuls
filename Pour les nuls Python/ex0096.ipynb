{
 "cells": [
  {
   "cell_type": "code",
   "execution_count": null,
   "id": "5fc73287",
   "metadata": {},
   "outputs": [],
   "source": [
    "from email.mime.text import MIMEText\n",
    "msg = MIMEText(\"Bonjour le monde !\")\n",
    "msg['Subject'] = \"Message de test\"\n",
    "msg['From'] = 'John Mueller ' + \\\n",
    "    '<John@JohnMuellerBooks.com>'\n",
    "msg['To'] = 'John Mueller' + \\\n",
    "    '<John@JohnMuellerBooks.com>'\n",
    "\n",
    "msg.as_string()"
   ]
  }
 ],
 "metadata": {
  "language_info": {
   "name": "python"
  }
 },
 "nbformat": 4,
 "nbformat_minor": 5
}
