{
 "cells": [
  {
   "cell_type": "code",
   "execution_count": null,
   "id": "5fc73287",
   "metadata": {},
   "outputs": [],
   "source": [
    "from email.mime.text import MIMEText\n",
    "msg = MIMEText(\"Bonjour le monde !\")\n",
    "msg['Subject'] = \"Message de test\"\n",
    "msg['From'] = 'John Mueller ' + \\\n",
    "    '<John@JohnMuellerBooks.com>'\n",
    "msg['To'] = 'John Mueller' + \\\n",
    "    '<John@JohnMuellerBooks.com>'\n",
    "\n",
    "msg.as_string()"
   ]
  }
 ],
 "metadata": {
  "kernelspec": {
   "display_name": ".venv",
   "language": "python",
   "name": "python3"
  },
  "language_info": {
   "codemirror_mode": {
    "name": "ipython",
    "version": 3
   },
   "file_extension": ".py",
   "mimetype": "text/x-python",
   "name": "python",
   "nbconvert_exporter": "python",
   "pygments_lexer": "ipython3",
   "version": "3.11.2"
  }
 },
 "nbformat": 4,
 "nbformat_minor": 5
}
