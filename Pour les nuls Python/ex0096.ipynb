{
 "cells": [
  {
   "cell_type": "code",
   "execution_count": null,
   "id": "5fc73287",
   "metadata": {},
   "outputs": [],
   "source": [
    "from email.mime.text import MIMEText # Import la classe MIMEText\n",
    "msg = MIMEText(\"Bonjour le monde !\") # Crée un objet MIMEText\n",
    "msg['Subject'] = \"Message de test\" # Ajoute un sujet\n",
    "msg['From'] = 'John Mueller ' + \\\n",
    "    '<John@JohnMuellerBooks.com>' # Ajoute un expéditeur\n",
    "msg['To'] = 'John Mueller' + \\\n",
    "    '<John@JohnMuellerBooks.com>' # Ajoute un destinataire\n",
    "\n",
    "msg.as_string() # Convertit le message en chaîne de caractères"
   ]
  },
  {
   "cell_type": "code",
   "execution_count": null,
   "id": "b9db3827",
   "metadata": {},
   "outputs": [],
   "source": [
    "import smtplib # Importe le module smtplib\n",
    "s = smtplib.SMTP('localhost', 1025) # Crée un objet SMTP\n",
    "\n",
    "s.sendmail('SenderAddress',\n",
    "           ['RecipientAddress'],\n",
    "           msg.as_string()) # Envoie le message"
   ]
  },
  {
   "cell_type": "code",
   "execution_count": null,
   "id": "90665d24",
   "metadata": {
    "vscode": {
     "languageId": "shellscript"
    }
   },
   "outputs": [],
   "source": [
    "#python -m smtpd -c DebuggingServer -n localhost:1025 # Allume le serveur SMTP de debug sur le port 1025\n",
    "#python -m aiosmtpd -n -l localhost:1025 # Allume le serveur SMTP de debug sur le port 1025"
   ]
  }
 ],
 "metadata": {
  "kernelspec": {
   "display_name": ".venv",
   "language": "python",
   "name": "python3"
  },
  "language_info": {
   "codemirror_mode": {
    "name": "ipython",
    "version": 3
   },
   "file_extension": ".py",
   "mimetype": "text/x-python",
   "name": "python",
   "nbconvert_exporter": "python",
   "pygments_lexer": "ipython3",
   "version": "3.11.2"
  }
 },
 "nbformat": 4,
 "nbformat_minor": 5
}
