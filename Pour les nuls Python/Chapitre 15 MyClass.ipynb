{
 "cells": [
  {
   "cell_type": "code",
   "execution_count": 6,
   "id": "232a8080",
   "metadata": {},
   "outputs": [],
   "source": [
    "class MyClass:\n",
    "    def __init__(self, Name=\"Samuel\", Age = 32):\n",
    "        self.Name = Name\n",
    "        self.Age = Age\n",
    "    \n",
    "    def GetName(self):\n",
    "        return self.Name\n",
    "    \n",
    "    def SetName(self, Name):\n",
    "        self.Name = Name\n",
    "    \n",
    "    def GetAge(self):\n",
    "        return self.Age\n",
    "    \n",
    "    def SetAge(self, Age):\n",
    "        self.Age = Age\n",
    "\n",
    "    def __str__(self):\n",
    "        return \"{0} est âgé(e) de {1} ans.\".format(self.Name, self.Age)"
   ]
  },
  {
   "cell_type": "code",
   "execution_count": 7,
   "id": "5146ecf2",
   "metadata": {},
   "outputs": [
    {
     "ename": "AttributeError",
     "evalue": "module 'Chapitre_15_MyClass' has no attribute 'MyClass'",
     "output_type": "error",
     "traceback": [
      "\u001b[31m---------------------------------------------------------------------------\u001b[39m",
      "\u001b[31mAttributeError\u001b[39m                            Traceback (most recent call last)",
      "\u001b[36mCell\u001b[39m\u001b[36m \u001b[39m\u001b[32mIn[7]\u001b[39m\u001b[32m, line 3\u001b[39m\n\u001b[32m      1\u001b[39m \u001b[38;5;28;01mimport\u001b[39;00m\u001b[38;5;250m \u001b[39m\u001b[34;01mChapitre_15_MyClass\u001b[39;00m\n\u001b[32m----> \u001b[39m\u001b[32m3\u001b[39m SamuelRecord = \u001b[43mChapitre_15_MyClass\u001b[49m\u001b[43m.\u001b[49m\u001b[43mMyClass\u001b[49m()\n\u001b[32m      4\u001b[39m AnnieRecord = Chapitre_15_MyClass.MyClass(\u001b[33m\"\u001b[39m\u001b[33mAnnie\u001b[39m\u001b[33m\"\u001b[39m, \u001b[32m44\u001b[39m)\n\u001b[32m      6\u001b[39m \u001b[38;5;28mprint\u001b[39m(SamuelRecord.GetAge())\n",
      "\u001b[31mAttributeError\u001b[39m: module 'Chapitre_15_MyClass' has no attribute 'MyClass'"
     ]
    }
   ],
   "source": [
    "import Chapitre_15_MyClass\n",
    "\n",
    "SamuelRecord = Chapitre_15_MyClass.MyClass()\n",
    "AnnieRecord = Chapitre_15_MyClass.MyClass(\"Annie\", 44)\n",
    "\n",
    "print(SamuelRecord.GetAge())\n",
    "SamuelRecord.SetAge(33)\n",
    "\n",
    "print(AnnieRecord.GetName())\n",
    "AnnieRecord.SetName(\"Sophie\")\n",
    "\n",
    "print(SamuelRecord)\n",
    "print(AnnieRecord)"
   ]
  }
 ],
 "metadata": {
  "kernelspec": {
   "display_name": ".venv",
   "language": "python",
   "name": "python3"
  },
  "language_info": {
   "codemirror_mode": {
    "name": "ipython",
    "version": 3
   },
   "file_extension": ".py",
   "mimetype": "text/x-python",
   "name": "python",
   "nbconvert_exporter": "python",
   "pygments_lexer": "ipython3",
   "version": "3.11.2"
  }
 },
 "nbformat": 4,
 "nbformat_minor": 5
}
