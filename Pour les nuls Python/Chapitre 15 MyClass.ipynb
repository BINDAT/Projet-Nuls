{
 "cells": [
  {
   "cell_type": "code",
   "execution_count": null,
   "id": "232a8080",
   "metadata": {},
   "outputs": [],
   "source": [
    "class MyClass: # Définition de la classe\n",
    "    def __init__(self, Name=\"Samuel\", Age = 32): # Constructeur de la classe\n",
    "        self.Name = Name # Nom de l'utilisateur\n",
    "        self.Age = Age # Âge de l'utilisateur\n",
    "\n",
    "    def GetName(self): # Getter pour le nom\n",
    "        return self.Name # Retourne le nom de l'utilisateur\n",
    "\n",
    "    def SetName(self, Name): # Setter pour le nom\n",
    "        self.Name = Name # Nom de l'utilisateur\n",
    "\n",
    "    def GetAge(self): # Getter pour l'âge\n",
    "        return self.Age # Retourne l'âge de l'utilisateur\n",
    "\n",
    "    def SetAge(self, Age): # Setter pour l'âge\n",
    "        self.Age = Age # Âge de l'utilisateur\n",
    "\n",
    "    def __str__(self): # Méthode pour afficher les informations de l'utilisateur\n",
    "        return \"{0} est âgé(e) de {1} ans.\".format(self.Name, self.Age) # Retourne les informations de l'utilisateur"
   ]
  },
  {
   "cell_type": "code",
   "execution_count": null,
   "id": "5146ecf2",
   "metadata": {},
   "outputs": [
    {
     "name": "stdout",
     "output_type": "stream",
     "text": [
      "32\n",
      "Annie\n",
      "Samuel est âgé(e) de 33 ans.\n",
      "Sophie est âgé(e) de 44 ans.\n"
     ]
    }
   ],
   "source": [
    "#import Chapitre_15_MyClass\n",
    "\n",
    "#SamuelRecord = Chapitre_15_MyClass.MyClass()\n",
    "SamuelRecord = MyClass() # Création d'un enregistrement pour Samuel\n",
    "#AnnieRecord = Chapitre_15_MyClass.MyClass(\"Annie\", 44)\n",
    "AnnieRecord = MyClass(\"Annie\", 44) # Création d'un enregistrement pour Annie avec des paramètres\n",
    "\n",
    "print(SamuelRecord.GetAge()) # Retourne l'âge de Samuel\n",
    "SamuelRecord.SetAge(33) # Met à jour l'âge de Samuel\n",
    "\n",
    "print(AnnieRecord.GetName()) # Retourne le nom d'Annie\n",
    "AnnieRecord.SetName(\"Sophie\") # Met à jour le nom d'Annie\n",
    "\n",
    "print(SamuelRecord)\n",
    "print(AnnieRecord)"
   ]
  }
 ],
 "metadata": {
  "kernelspec": {
   "display_name": ".venv",
   "language": "python",
   "name": "python3"
  },
  "language_info": {
   "codemirror_mode": {
    "name": "ipython",
    "version": 3
   },
   "file_extension": ".py",
   "mimetype": "text/x-python",
   "name": "python",
   "nbconvert_exporter": "python",
   "pygments_lexer": "ipython3",
   "version": "3.11.2"
  }
 },
 "nbformat": 4,
 "nbformat_minor": 5
}
