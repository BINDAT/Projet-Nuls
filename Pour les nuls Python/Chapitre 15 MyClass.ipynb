{
 "cells": [
  {
   "cell_type": "code",
   "execution_count": null,
   "id": "232a8080",
   "metadata": {},
   "outputs": [],
   "source": [
    "class MyClass:\n",
    "    def __init__(self, Name=\"Samuel\", Age = 32):\n",
    "        self.Name = Name\n",
    "        self.Age = Age\n",
    "    \n",
    "    def GetName(self):\n",
    "        return self.Name\n",
    "    \n",
    "    def SetName(self, Name):\n",
    "        self.Name = Name\n",
    "    \n",
    "    def GetAge(self):\n",
    "        return self.Age\n",
    "    \n",
    "    def SetAge(self, Age):\n",
    "        self.Age = Age\n",
    "\n",
    "    def __str__(self):\n",
    "        return \"{0} est âgé(e) de {1} ans.\".format(self.Name, self.Age)"
   ]
  },
  {
   "cell_type": "code",
   "execution_count": null,
   "id": "5146ecf2",
   "metadata": {},
   "outputs": [],
   "source": [
    "import Chapitre_15_MyClass\n",
    "\n",
    "SamuelRecord = Chapitre_15_MyClass.MyClass()\n",
    "AnnieRecord = Chapitre_15_MyClass.MyClass(\"Annie\", 44)\n",
    "\n",
    "print(SamuelRecord.GetAge())\n",
    "SamuelRecord.SetAge(33)\n",
    "\n",
    "print(AnnieRecord.GetName())\n",
    "AnnieRecord.SetName(\"Sophie\")\n",
    "\n",
    "print(SamuelRecord)\n",
    "print(AnnieRecord)"
   ]
  }
 ],
 "metadata": {
  "kernelspec": {
   "display_name": ".venv",
   "language": "python",
   "name": "python3"
  },
  "language_info": {
   "codemirror_mode": {
    "name": "ipython",
    "version": 3
   },
   "file_extension": ".py",
   "mimetype": "text/x-python",
   "name": "python",
   "nbconvert_exporter": "python",
   "pygments_lexer": "ipython3",
   "version": "3.11.2"
  }
 },
 "nbformat": 4,
 "nbformat_minor": 5
}
