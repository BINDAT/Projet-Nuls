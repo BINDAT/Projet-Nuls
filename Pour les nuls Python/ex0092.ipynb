{
 "cells": [
  {
   "cell_type": "code",
   "execution_count": null,
   "id": "e76c094d",
   "metadata": {},
   "outputs": [],
   "source": [
    "class FormatData: # Cette classe permet de formater les données\n",
    "    def __init__(self, Name=\"\", Age=0, Married=False): # Constructeur de la classe\n",
    "        self.Name = Name # Nom de la personne\n",
    "        self.Age = Age # Âge de la personne\n",
    "        self.Married = Married # État civil de la personne\n",
    "\n",
    "    def __str__(self): # Méthode pour afficher les informations de la personne\n",
    "        OutString = \"'{0}', {1}, {2}\".format(\n",
    "            self.Name,\n",
    "            self.Age,\n",
    "            self.Married) # État civil de la personne\n",
    "        return OutString # Retourne la chaîne formatée"
   ]
  },
  {
   "cell_type": "code",
   "execution_count": null,
   "id": "8150f7cf",
   "metadata": {},
   "outputs": [
    {
     "name": "stdout",
     "output_type": "stream",
     "text": [
      "'Georges', 65, True\n",
      "'Sophie', 47, False\n",
      "'Pierre', 52, True\n"
     ]
    }
   ],
   "source": [
    "NewData = [FormatData(\"Georges\", 65, True),\n",
    "           FormatData(\"Sophie\", 47, False),\n",
    "           FormatData(\"Pierre\", 52, True)] # Liste des données formatées\n",
    "\n",
    "for Entry in NewData: # Parcours de la liste des données formatées\n",
    "    print(Entry) # Affichage des informations de la personne"
   ]
  }
 ],
 "metadata": {
  "kernelspec": {
   "display_name": ".venv",
   "language": "python",
   "name": "python3"
  },
  "language_info": {
   "codemirror_mode": {
    "name": "ipython",
    "version": 3
   },
   "file_extension": ".py",
   "mimetype": "text/x-python",
   "name": "python",
   "nbconvert_exporter": "python",
   "pygments_lexer": "ipython3",
   "version": "3.11.2"
  }
 },
 "nbformat": 4,
 "nbformat_minor": 5
}
