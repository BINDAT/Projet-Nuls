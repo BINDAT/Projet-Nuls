{
 "cells": [
  {
   "cell_type": "code",
   "execution_count": null,
   "id": "ac2a9f2f",
   "metadata": {},
   "outputs": [],
   "source": [
    "import csv # Bibliothèque de gestion des fichiers CSV\n",
    "class FormatData2: # Classe pour formater les données\n",
    "    def __init__(self, Name=\"\", Age=0, Married=False): # Constructeur de la classe\n",
    "        self.Name = Name # Nom\n",
    "        self.Age = Age # Âge\n",
    "        self.Married = Married # Marié\n",
    "\n",
    "    def __str__(self): # Méthode pour afficher les données\n",
    "        OutString = \"'{0}', {1}, {2}\".format(\n",
    "            self.Name,\n",
    "            self.Age,\n",
    "            self.Married)\n",
    "        return OutString # Affichage des données\n",
    "\n",
    "    def SaveData(Filename = \"\", DataList = []): # Méthode pour enregistrer les données\n",
    "        with open(Filename,\n",
    "                  \"w\", newline='\\n') as csvfile: # Ouverture du fichier CSV\n",
    "            DataWriter = csv.writer(\n",
    "                csvfile,\n",
    "                delimiter='\\n',\n",
    "                quotechar=\" \",\n",
    "                quoting=csv.QUOTE_NONNUMERIC) # Gestion des guillemets\n",
    "            DataWriter.writerow(DataList) # Écriture des données\n",
    "            csvfile.close() # Fermeture du fichier\n",
    "            print(\"Données enregistrées !\")"
   ]
  },
  {
   "cell_type": "code",
   "execution_count": null,
   "id": "a3304975",
   "metadata": {},
   "outputs": [],
   "source": [
    "def SaveData(Filename = \"\", DataList = []): # Méthode pour enregistrer les données\n",
    "    with open(Filename,\n",
    "              \"w\", newline='\\n') as csvfile: # Ouverture du fichier CSV\n",
    "        DataWriter = csv.writer(\n",
    "            csvfile,\n",
    "            delimiter='\\n',\n",
    "            quotechar=\" \",\n",
    "            quoting=csv.QUOTE_NONNUMERIC) # Gestion des guillemets\n",
    "        DataWriter.writerow(DataList) # Écriture des données\n",
    "        csvfile.close() # Fermeture du fichier\n",
    "        print(\"Données enregistrées !\")\n"
   ]
  },
  {
   "cell_type": "code",
   "execution_count": null,
   "id": "8353c1ab",
   "metadata": {},
   "outputs": [
    {
     "name": "stdout",
     "output_type": "stream",
     "text": [
      "Données enregistrées !\n"
     ]
    }
   ],
   "source": [
    "NewData = [FormatData2(\"Georges\", 65, True),\n",
    "           FormatData2(\"Sophie\", 47, False),\n",
    "           FormatData2(\"Pierre\", 52, True)] # Liste des nouvelles données\n",
    "FormatData2.SaveData(\"TestFile.csv\", NewData) # Enregistrement des données"
   ]
  }
 ],
 "metadata": {
  "kernelspec": {
   "display_name": ".venv",
   "language": "python",
   "name": "python3"
  },
  "language_info": {
   "codemirror_mode": {
    "name": "ipython",
    "version": 3
   },
   "file_extension": ".py",
   "mimetype": "text/x-python",
   "name": "python",
   "nbconvert_exporter": "python",
   "pygments_lexer": "ipython3",
   "version": "3.11.2"
  }
 },
 "nbformat": 4,
 "nbformat_minor": 5
}
