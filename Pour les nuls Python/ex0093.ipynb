{
 "cells": [
  {
   "cell_type": "code",
   "execution_count": 6,
   "id": "ac2a9f2f",
   "metadata": {},
   "outputs": [],
   "source": [
    "import csv\n",
    "class FormatData2:\n",
    "    def __init__(self, Name=\"\", Age=0, Married=False):\n",
    "        self.Name = Name\n",
    "        self.Age = Age\n",
    "        self.Married = Married\n",
    "\n",
    "    def __str__(self):\n",
    "        OutString = \"'{0}', {1}, {2}\".format(\n",
    "            self.Name,\n",
    "            self.Age,\n",
    "            self.Married)\n",
    "        return OutString\n",
    "    \n",
    "    def SaveData(Filename = \"\", DataList = []):\n",
    "        with open(Filename,\n",
    "                  \"w\", newline='\\n') as csvfile:\n",
    "            DataWriter = csv.writer(\n",
    "                csvfile,\n",
    "                delimiter='\\n',\n",
    "                quotechar=\" \",\n",
    "                quoting=csv.QUOTE_NONNUMERIC)\n",
    "            DataWriter.writerow(DataList)\n",
    "            csvfile.close()\n",
    "            print(\"Données enregistrées !\")"
   ]
  },
  {
   "cell_type": "code",
   "execution_count": 7,
   "id": "a3304975",
   "metadata": {},
   "outputs": [],
   "source": [
    "def SaveData(Filename = \"\", DataList = []):\n",
    "    with open(Filename,\n",
    "              \"w\", newline='\\n') as csvfile:\n",
    "        DataWriter = csv.writer(\n",
    "            csvfile,\n",
    "            delimiter='\\n',\n",
    "            quotechar=\" \",\n",
    "            quoting=csv.QUOTE_NONNUMERIC)\n",
    "        DataWriter.writerow(DataList)\n",
    "        csvfile.close()\n",
    "        print(\"Données enregistrées !\")\n"
   ]
  },
  {
   "cell_type": "code",
   "execution_count": 8,
   "id": "8353c1ab",
   "metadata": {},
   "outputs": [
    {
     "name": "stdout",
     "output_type": "stream",
     "text": [
      "Données enregistrées !\n"
     ]
    }
   ],
   "source": [
    "NewData = [FormatData2(\"Georges\", 65, True),\n",
    "           FormatData2(\"Sophie\", 47, False),\n",
    "           FormatData2(\"Pierre\", 52, True)]\n",
    "FormatData2.SaveData(\"TestFile.csv\", NewData)"
   ]
  }
 ],
 "metadata": {
  "kernelspec": {
   "display_name": ".venv",
   "language": "python",
   "name": "python3"
  },
  "language_info": {
   "codemirror_mode": {
    "name": "ipython",
    "version": 3
   },
   "file_extension": ".py",
   "mimetype": "text/x-python",
   "name": "python",
   "nbconvert_exporter": "python",
   "pygments_lexer": "ipython3",
   "version": "3.11.2"
  }
 },
 "nbformat": 4,
 "nbformat_minor": 5
}
