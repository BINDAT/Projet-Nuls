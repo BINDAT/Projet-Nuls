{
 "cells": [
  {
   "cell_type": "code",
   "execution_count": null,
   "id": "f51bd2ef",
   "metadata": {},
   "outputs": [],
   "source": [
    "import os.path\n",
    "\n",
    "if not os.path.isfile(\"Testfile.csv\"):\n",
    "    print(\"SVP exécutez le fichier d'exemple CreateFile.py !\")\n",
    "    quit()\n",
    "\n",
    "NewData = FormatData3.ReadData(\"Testfile.csv\")\n",
    "for Entry in NewData:\n",
    "    print(Entry)\n",
    "\n",
    "print(\"\\r\\nAjout d'un enregistrement pour Antoine.\")\n",
    "NewRecord = \"'Antoine', 23, False\"\n",
    "NewData.append(NewRecord)\n",
    "for Entry in NewData:\n",
    "    print(Entry)\n",
    "\n",
    "print(\"\\r\\nSuppression de l'enregistrement de Pierre.\")\n",
    "Location = NewData.index(\"'Pierre', 52, True\")\n",
    "Record = NewData[Location]\n",
    "NewData.remove(Record)\n",
    "for Entry in NewData:\n",
    "    print(Entry)\n"
   ]
  }
 ],
 "metadata": {
  "language_info": {
   "name": "python"
  }
 },
 "nbformat": 4,
 "nbformat_minor": 5
}
