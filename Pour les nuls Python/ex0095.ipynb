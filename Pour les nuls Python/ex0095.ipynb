{
 "cells": [
  {
   "cell_type": "code",
   "execution_count": null,
   "id": "74df2d8a",
   "metadata": {},
   "outputs": [],
   "source": [
    "import socket\n",
    "print(socket.gethostbyname(\"localhost\"))\n",
    "print(socket.gethostbyaddr(\"127.0.0.1\"))\n"
   ]
  },
  {
   "cell_type": "code",
   "execution_count": null,
   "id": "9a1b45af",
   "metadata": {},
   "outputs": [],
   "source": [
    "print(socket.gethostbyname(\"www.pourlesnuls.fr\"))"
   ]
  },
  {
   "cell_type": "code",
   "execution_count": null,
   "id": "0ac9dd2d",
   "metadata": {},
   "outputs": [],
   "source": [
    "import socket\n",
    "socket.getaddrinfo(\"localhost\", 110)"
   ]
  },
  {
   "cell_type": "code",
   "execution_count": null,
   "id": "b7e62360",
   "metadata": {},
   "outputs": [],
   "source": [
    "socket.getservbyport(25)"
   ]
  }
 ],
 "metadata": {
  "kernelspec": {
   "display_name": ".venv",
   "language": "python",
   "name": "python3"
  },
  "language_info": {
   "codemirror_mode": {
    "name": "ipython",
    "version": 3
   },
   "file_extension": ".py",
   "mimetype": "text/x-python",
   "name": "python",
   "nbconvert_exporter": "python",
   "pygments_lexer": "ipython3",
   "version": "3.11.2"
  }
 },
 "nbformat": 4,
 "nbformat_minor": 5
}
